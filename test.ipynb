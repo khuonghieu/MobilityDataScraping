{
 "cells": [
  {
   "cell_type": "code",
   "execution_count": 143,
   "metadata": {},
   "outputs": [],
   "source": [
    "import requests\n",
    "from bs4 import BeautifulSoup as bs\n",
    "import urllib.request, urllib.error, urllib.parse\n",
    "import html"
   ]
  },
  {
   "cell_type": "code",
   "execution_count": 90,
   "metadata": {
    "tags": [
     "outputPrepend"
    ]
   },
   "outputs": [],
   "source": [
    "URL = 'https://www.google.com/covid19/mobility' "
   ]
  },
  {
   "cell_type": "code",
   "execution_count": 91,
   "metadata": {},
   "outputs": [],
   "source": [
    "r = requests.get(URL)"
   ]
  },
  {
   "cell_type": "code",
   "execution_count": 92,
   "metadata": {},
   "outputs": [
    {
     "output_type": "stream",
     "name": "stdout",
     "text": "<Response [200]>\n"
    }
   ],
   "source": [
    "print(r)"
   ]
  },
  {
   "cell_type": "code",
   "execution_count": 93,
   "metadata": {},
   "outputs": [
    {
     "output_type": "execute_result",
     "data": {
      "text/plain": "'text/html'"
     },
     "metadata": {},
     "execution_count": 93
    }
   ],
   "source": [
    "r.headers['content-type']"
   ]
  },
  {
   "cell_type": "code",
   "execution_count": 95,
   "metadata": {},
   "outputs": [
    {
     "output_type": "execute_result",
     "data": {
      "text/plain": "'ISO-8859-1'"
     },
     "metadata": {},
     "execution_count": 95
    }
   ],
   "source": [
    "r.encoding"
   ]
  },
  {
   "cell_type": "code",
   "execution_count": 102,
   "metadata": {},
   "outputs": [],
   "source": [
    "soup = bs(r.text,'html.parser')"
   ]
  },
  {
   "cell_type": "code",
   "execution_count": 147,
   "metadata": {
    "tags": [
     "outputPrepend"
    ]
   },
   "outputs": [],
   "source": [
    "a = soup.findAll('a')"
   ]
  },
  {
   "cell_type": "code",
   "execution_count": 148,
   "metadata": {},
   "outputs": [
    {
     "output_type": "stream",
     "name": "stdout",
     "text": "<a aria-label=\"Google\" class=\"glue-header__logo-link\" data-g-action=\"navigation\" data-g-category=\"header\" data-g-href=\"/\" data-g-label=\"Logo\" data-g-module-type=\"Main Nav\" href=\"https://www.google.com/\" title=\"Google\">\n <div class=\"glue-header__logo-container\">\n  <svg alt=\"Google\" aria-hidden=\"true\" class=\"glue-header__logo-svg\" role=\"img\">\n   <use xlink:href=\"static/icons.svg#google-color-logo\">\n   </use>\n  </svg>\n </div>\n</a>\n\n<a aria-label=\"Google\" class=\"glue-header__logo-link\" data-g-action=\"navigation\" data-g-category=\"header\" data-g-href=\"/\" data-g-label=\"Logo\" data-g-module-type=\"Main Nav\" href=\"https://www.google.com\" title=\"Google\">\n <div class=\"glue-header__logo-container\">\n  <svg alt=\"Google\" aria-hidden=\"true\" class=\"glue-header__logo-svg\" role=\"img\">\n   <use xlink:href=\"static/icons.svg#google-color-logo\">\n   </use>\n  </svg>\n </div>\n</a>\n\n<a href=\"https://policies.google.com/terms\">\n Terms of Service\n</a>\n\n<a aria-label=\"Download global CSV\" class=\"icon-link\" href=\"https://www.gstatic.com/covid19/mobility/Global_Mobility_Report.csv?cachebust=911a386b6c9c230f\" target=\"_blank\">\n <svg alt=\"\" class=\"glue-icon glue-icon--24px\" role=\"img\">\n  <use xlink:href=\"static/icons.svg#file-download\">\n  </use>\n </svg>\n <span>\n  Download global CSV\n </span>\n</a>\n\n<a href=\"data_documentation.html?hl=en\">\n CSV documentation\n</a>\n<a href=\"https://support.google.com/accounts/answer/3118687\">\n Location History\n</a>\n\n<a href=\"https://myaccount.google.com/activitycontrols\">\n Google Account\n</a>\n\n<a href=\"https://www.google.com/maps/timeline\">\n Timeline\n</a>\n\n<a href=\"https://www.youtube.com/watch?v=FfAdemDkLsc&amp;feature=youtu.be\">\n differential privacy\n</a>\n\n<a href=\"https://policies.google.com/privacy\">\n Privacy Policy\n</a>\n\n<a href=\"https://www.blog.google/technology/health/covid-19-community-mobility-reports\">\n blog post\n</a>\n\n<a data-g-action=\"navigation\" data-g-category=\"footer\" data-g-href=\"/\" data-g-label=\"Logo\" href=\"https://www.google.com\">\n <svg alt=\"Google\" aria-label=\"Google\" class=\"glue-footer__logo-img\" role=\"img\">\n  <use xlink:href=\"static/icons.svg#google-solid-logo\">\n  </use>\n </svg>\n</a>\n<a class=\"glue-footer__link\" data-g-action=\"navigation\" data-g-category=\"footer\" data-g-href=\"https://about.google/\" data-g-label=\"About Google\" href=\"https://about.google/\" rel=\"noopener\" target=\"_blank\">\n About Google\n</a>\n<a class=\"glue-footer__link\" data-g-action=\"navigation\" data-g-category=\"footer\" data-g-href=\"https://about.google/products/\" data-g-label=\"Google products\" href=\"https://about.google/products/\" rel=\"noopener\" target=\"_blank\">\n Google products\n</a>\n<a class=\"glue-footer__link\" data-g-action=\"navigation\" data-g-category=\"footer\" data-g-href=\"https://policies.google.com/privacy\" data-g-label=\"Privacy\" href=\"https://policies.google.com/privacy\" rel=\"noopener\" target=\"_blank\">\n Privacy\n</a>\n<a class=\"glue-footer__link\" data-g-action=\"navigation\" data-g-category=\"footer\" data-g-href=\"https://policies.google.com/terms\" data-g-label=\"Terms\" href=\"https://policies.google.com/terms\" rel=\"noopener\" target=\"_blank\">\n Terms\n</a>\n"
    }
   ],
   "source": [
    "for am in a:\n",
    "    print(am.prettify())"
   ]
  },
  {
   "cell_type": "code",
   "execution_count": null,
   "metadata": {},
   "outputs": [],
   "source": []
  }
 ],
 "metadata": {
  "language_info": {
   "codemirror_mode": {
    "name": "ipython",
    "version": 3
   },
   "file_extension": ".py",
   "mimetype": "text/x-python",
   "name": "python",
   "nbconvert_exporter": "python",
   "pygments_lexer": "ipython3",
   "version": "3.7.5-final"
  },
  "orig_nbformat": 2,
  "kernelspec": {
   "name": "python3",
   "display_name": "Python 3"
  }
 },
 "nbformat": 4,
 "nbformat_minor": 2
}