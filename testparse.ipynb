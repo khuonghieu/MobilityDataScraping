{
 "cells": [
  {
   "cell_type": "code",
   "execution_count": 1,
   "metadata": {},
   "outputs": [],
   "source": [
    "import os\n",
    "from tika import parser\n",
    "import csv"
   ]
  },
  {
   "cell_type": "code",
   "execution_count": 2,
   "metadata": {},
   "outputs": [],
   "source": [
    "#All pdf files in a dir\n",
    "filelist = os.listdir('pdfs')"
   ]
  },
  {
   "cell_type": "code",
   "execution_count": 3,
   "metadata": {},
   "outputs": [],
   "source": [
    "#Extract data from first page, which is the country or state.\n",
    "def extractBigEntity(textList):\n",
    "    checkpoint = 0\n",
    "    statList = []\n",
    "    for i in range(6):\n",
    "        stoppoint = textList[checkpoint+1:].index('compared to baseline')\n",
    "        returnSet = textList[checkpoint:checkpoint+stoppoint+1]\n",
    "        statList.append(returnSet[-1])\n",
    "        checkpoint += stoppoint + 1\n",
    "    return statList, checkpoint"
   ]
  },
  {
   "cell_type": "code",
   "execution_count": 4,
   "metadata": {},
   "outputs": [],
   "source": [
    "#Extract data from next pages, which is states (for country file) or counties (for state file)\n",
    "def extractSmallEntity(textList):\n",
    "    categories = ['Retail & recreation', 'Grocery & pharmacy', 'Parks', 'Transit stations', 'Workplace', 'Residential']\n",
    "    countyDict = {}\n",
    "    statList = []\n",
    "    county = \"\"\n",
    "    for i in range(len(textList)):\n",
    "        if len(statList) == 6 and county != \"\":\n",
    "            countyDict[county] = statList\n",
    "            statList = []\n",
    "            county = \"\"\n",
    "        for element in categories:\n",
    "            if element in textList[i]:\n",
    "                if \"Retail & recreation\" in textList[i]:\n",
    "                    county = textList[i-1]\n",
    "                    #print(county)\n",
    "                if 'compared to baseline' in textList[i+1]:\n",
    "                    splitLine = textList[i+1].split(' ')\n",
    "                    #print(splitLine[0])\n",
    "                    statList.append(splitLine[0])\n",
    "                    #print(textList[i])\n",
    "                elif 'Not enough data for this date' in textList[i+1]:\n",
    "                    statList.append(\"N/A\")\n",
    "                    #print(\"Not enough data\")\n",
    "                    #print(textList[i])\n",
    "    return countyDict"
   ]
  },
  {
   "cell_type": "code",
   "execution_count": 24,
   "metadata": {},
   "outputs": [],
   "source": [
    "#Create name for csv file with time and country/state name\n",
    "def extractLocationAndTimeName(filename):\n",
    "    filenamesplit = filename.split('_')\n",
    "    if(filenamesplit[2] == 'Mobility'):\n",
    "        return filenamesplit[0]+'_'+filenamesplit[1]\n",
    "    else:\n",
    "        if(os.path.isdir('CSV/'+filenamesplit[1]) == False):\n",
    "            os.mkdir('CSV/'+filenamesplit[1])\n",
    "        return filenamesplit[1]+'/'+filenamesplit[0]+'_'+filenamesplit[2]"
   ]
  },
  {
   "cell_type": "code",
   "execution_count": 25,
   "metadata": {},
   "outputs": [],
   "source": [
    "#Convert a pdf file to csv\n",
    "def convertPDFtoCSV(filename):\n",
    "    location = extractLocationAndTimeName(filename)\n",
    "    \n",
    "    csvfilename = location+'.csv'\n",
    "    csvfile = open('CSV/'+csvfilename, 'w')\n",
    "    writer = csv.writer(csvfile)\n",
    "    writer.writerow(['X','Retail & recreation', 'Grocery & pharmacy', 'Parks', 'Transit stations', 'Workplace', 'Residential'])\n",
    "    \n",
    "    pdf = parser.from_file(\"pdfs/\"+filename)\n",
    "    text = pdf['content'].strip().split('\\n')\n",
    "    for element in text:\n",
    "        if element == '':\n",
    "            text.remove(element)\n",
    "    overview, checkpoint = extractBigEntity(text)\n",
    "    overview.insert(0,location)\n",
    "    writer.writerow(overview)\n",
    "    resultDict = extractSmallEntity(text[checkpoint:])\n",
    "    for key in resultDict:\n",
    "        resultList = resultDict[key]\n",
    "        resultList.insert(0,key)\n",
    "        writer.writerow(resultList)\n",
    "    csvfile.close()"
   ]
  },
  {
   "cell_type": "code",
   "execution_count": 26,
   "metadata": {},
   "outputs": [],
   "source": [
    "for filename in filelist:\n",
    "    convertPDFtoCSV(filename)"
   ]
  },
  {
   "cell_type": "code",
   "execution_count": null,
   "metadata": {},
   "outputs": [],
   "source": []
  }
 ],
 "metadata": {
  "kernelspec": {
   "display_name": "Python 3",
   "language": "python",
   "name": "python3"
  },
  "language_info": {
   "codemirror_mode": {
    "name": "ipython",
    "version": 3
   },
   "file_extension": ".py",
   "mimetype": "text/x-python",
   "name": "python",
   "nbconvert_exporter": "python",
   "pygments_lexer": "ipython3",
   "version": "3.7.5"
  }
 },
 "nbformat": 4,
 "nbformat_minor": 2
}
