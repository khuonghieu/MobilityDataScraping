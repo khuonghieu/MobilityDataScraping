{
 "cells": [
  {
   "cell_type": "code",
   "execution_count": 2,
   "metadata": {},
   "outputs": [],
   "source": [
    "import os\n",
    "from tika import parser\n",
    "import csv"
   ]
  },
  {
   "cell_type": "code",
   "execution_count": 5,
   "metadata": {},
   "outputs": [
    {
     "output_type": "stream",
     "name": "stdout",
     "text": "['2020-04-11_CI_Mobility_Report_en.pdf', '2020-04-11_HR_Mobility_Report_en.pdf', '2020-04-11_US_District_of_Columbia_Mobility_Report_en.pdf', '2020-04-11_BA_Mobility_Report_en.pdf', '2020-04-11_JM_Mobility_Report_en.pdf', '2020-04-11_VN_Mobility_Report_en.pdf', '2020-04-11_US_Massachusetts_Mobility_Report_en.pdf', '2020-04-11_US_Vermont_Mobility_Report_en.pdf', '2020-04-11_VE_Mobility_Report_en.pdf', '2020-04-11_GT_Mobility_Report_en.pdf', '2020-04-11_US_Kentucky_Mobility_Report_en.pdf', '2020-04-11_ES_Mobility_Report_en.pdf', '2020-04-11_US_Ohio_Mobility_Report_en.pdf', '2020-04-11_UG_Mobility_Report_en.pdf', '2020-04-11_GA_Mobility_Report_en.pdf', '2020-04-11_LK_Mobility_Report_en.pdf', '2020-04-11_US_Oklahoma_Mobility_Report_en.pdf', '2020-04-11_HN_Mobility_Report_en.pdf', '2020-04-11_YE_Mobility_Report_en.pdf', '2020-04-11_US_Maryland_Mobility_Report_en.pdf', '2020-04-11_MM_Mobility_Report_en.pdf', '2020-04-11_BB_Mobility_Report_en.pdf', '2020-04-11_BZ_Mobility_Report_en.pdf', '2020-04-11_US_New_York_Mobility_Report_en.pdf', '2020-04-11_CO_Mobility_Report_en.pdf', '2020-04-11_US_Idaho_Mobility_Report_en.pdf', '2020-04-11_IT_Mobility_Report_en.pdf', '2020-04-11_IE_Mobility_Report_en.pdf', '2020-04-11_IN_Mobility_Report_en.pdf', '2020-04-11_BG_Mobility_Report_en.pdf', '2020-04-11_US_Colorado_Mobility_Report_en.pdf', '2020-04-11_US_Texas_Mobility_Report_en.pdf', '2020-04-11_FI_Mobility_Report_en.pdf', '2020-04-11_KG_Mobility_Report_en.pdf', '2020-04-11_US_Minnesota_Mobility_Report_en.pdf', '2020-04-11_NZ_Mobility_Report_en.pdf', '2020-04-11_CR_Mobility_Report_en.pdf', '2020-04-11_BD_Mobility_Report_en.pdf', '2020-04-11_AG_Mobility_Report_en.pdf', '2020-04-11_US_Utah_Mobility_Report_en.pdf', '2020-04-11_KR_Mobility_Report_en.pdf', '2020-04-11_US_Wisconsin_Mobility_Report_en.pdf', '2020-04-11_BJ_Mobility_Report_en.pdf', '2020-04-11_GR_Mobility_Report_en.pdf', '2020-04-11_US_Rhode_Island_Mobility_Report_en.pdf', '2020-04-11_US_Washington_Mobility_Report_en.pdf', '2020-04-11_LI_Mobility_Report_en.pdf', '2020-04-11_TZ_Mobility_Report_en.pdf', '2020-04-11_PT_Mobility_Report_en.pdf', '2020-04-11_OM_Mobility_Report_en.pdf', '2020-04-11_US_Oregon_Mobility_Report_en.pdf', '2020-04-11_BE_Mobility_Report_en.pdf', '2020-04-11_US_Illinois_Mobility_Report_en.pdf', '2020-04-11_KZ_Mobility_Report_en.pdf', '2020-04-11_CA_Mobility_Report_en.pdf', '2020-04-11_US_Nevada_Mobility_Report_en.pdf', '2020-04-11_AW_Mobility_Report_en.pdf', '2020-04-11_US_Kansas_Mobility_Report_en.pdf', '2020-04-11_KH_Mobility_Report_en.pdf', '2020-04-11_TW_Mobility_Report_en.pdf', '2020-04-11_ZM_Mobility_Report_en.pdf', '2020-04-11_US_New_Mexico_Mobility_Report_en.pdf', '2020-04-11_AO_Mobility_Report_en.pdf', '2020-04-11_FJ_Mobility_Report_en.pdf', '2020-04-11_AF_Mobility_Report_en.pdf', '2020-04-11_LB_Mobility_Report_en.pdf', '2020-04-11_AE_Mobility_Report_en.pdf', '2020-04-11_US_Georgia_Mobility_Report_en.pdf', '2020-04-11_US_Connecticut_Mobility_Report_en.pdf', '2020-04-11_US_Hawaii_Mobility_Report_en.pdf', '2020-04-11_CV_Mobility_Report_en.pdf', '2020-04-11_ID_Mobility_Report_en.pdf', '2020-04-11_PK_Mobility_Report_en.pdf', '2020-04-11_IL_Mobility_Report_en.pdf', '2020-04-11_US_Arkansas_Mobility_Report_en.pdf', '2020-04-11_ZA_Mobility_Report_en.pdf', '2020-04-11_CM_Mobility_Report_en.pdf', '2020-04-11_BW_Mobility_Report_en.pdf', '2020-04-11_LA_Mobility_Report_en.pdf', '2020-04-11_AU_Mobility_Report_en.pdf', '2020-04-11_FR_Mobility_Report_en.pdf', '2020-04-11_TR_Mobility_Report_en.pdf', '2020-04-11_LT_Mobility_Report_en.pdf', '2020-04-11_GB_Mobility_Report_en.pdf', '2020-04-11_PY_Mobility_Report_en.pdf', '2020-04-11_US_Missouri_Mobility_Report_en.pdf', '2020-04-11_US_Virginia_Mobility_Report_en.pdf', '2020-04-11_PH_Mobility_Report_en.pdf', '2020-04-11_TG_Mobility_Report_en.pdf', '2020-04-11_PA_Mobility_Report_en.pdf', '2020-04-11_CH_Mobility_Report_en.pdf', '2020-04-11_NE_Mobility_Report_en.pdf', '2020-04-11_EG_Mobility_Report_en.pdf', '2020-04-11_HT_Mobility_Report_en.pdf', '2020-04-11_SN_Mobility_Report_en.pdf', '2020-04-11_SK_Mobility_Report_en.pdf', '2020-04-11_JP_Mobility_Report_en.pdf', '2020-04-11_DK_Mobility_Report_en.pdf', '2020-04-11_US_California_Mobility_Report_en.pdf', '2020-04-11_US_Indiana_Mobility_Report_en.pdf', '2020-04-11_US_West_Virginia_Mobility_Report_en.pdf', '2020-04-11_US_Tennessee_Mobility_Report_en.pdf', '2020-04-11_MK_Mobility_Report_en.pdf', '2020-04-11_SG_Mobility_Report_en.pdf', '2020-04-11_GH_Mobility_Report_en.pdf', '2020-04-11_NO_Mobility_Report_en.pdf', '2020-04-11_RW_Mobility_Report_en.pdf', '2020-04-11_BR_Mobility_Report_en.pdf', '2020-04-11_EE_Mobility_Report_en.pdf', '2020-04-11_US_Mississippi_Mobility_Report_en.pdf', '2020-04-11_KE_Mobility_Report_en.pdf', '2020-04-11_US_Alaska_Mobility_Report_en.pdf', '2020-04-11_US_Montana_Mobility_Report_en.pdf', '2020-04-11_NA_Mobility_Report_en.pdf', '2020-04-11_EC_Mobility_Report_en.pdf', '2020-04-11_TT_Mobility_Report_en.pdf', '2020-04-11_ML_Mobility_Report_en.pdf', '2020-04-11_US_Michigan_Mobility_Report_en.pdf', '2020-04-11_LU_Mobility_Report_en.pdf', '2020-04-11_MN_Mobility_Report_en.pdf', '2020-04-11_MT_Mobility_Report_en.pdf', '2020-04-11_JO_Mobility_Report_en.pdf', '2020-04-11_US_North_Carolina_Mobility_Report_en.pdf', '2020-04-11_NG_Mobility_Report_en.pdf', '2020-04-11_QA_Mobility_Report_en.pdf', '2020-04-11_US_Alabama_Mobility_Report_en.pdf', '2020-04-11_BO_Mobility_Report_en.pdf', '2020-04-11_US_Arizona_Mobility_Report_en.pdf', '2020-04-11_MZ_Mobility_Report_en.pdf', '2020-04-11_LY_Mobility_Report_en.pdf', '2020-04-11_RE_Mobility_Report_en.pdf', '2020-04-11_KW_Mobility_Report_en.pdf', '2020-04-11_US_Mobility_Report_en.pdf', '2020-04-11_MD_Mobility_Report_en.pdf', '2020-04-11_ZW_Mobility_Report_en.pdf', '2020-04-11_US_Pennsylvania_Mobility_Report_en.pdf', '2020-04-11_MY_Mobility_Report_en.pdf', '2020-04-11_US_Maine_Mobility_Report_en.pdf', '2020-04-11_PG_Mobility_Report_en.pdf', '2020-04-11_GW_Mobility_Report_en.pdf', '2020-04-11_US_North_Dakota_Mobility_Report_en.pdf', '2020-04-11_US_South_Carolina_Mobility_Report_en.pdf', '2020-04-11_US_Nebraska_Mobility_Report_en.pdf', '2020-04-11_US_Florida_Mobility_Report_en.pdf', '2020-04-11_NI_Mobility_Report_en.pdf', '2020-04-11_AR_Mobility_Report_en.pdf', '2020-04-11_US_Louisiana_Mobility_Report_en.pdf', '2020-04-11_CZ_Mobility_Report_en.pdf', '2020-04-11_PL_Mobility_Report_en.pdf', '2020-04-11_MU_Mobility_Report_en.pdf', '2020-04-11_SE_Mobility_Report_en.pdf', '2020-04-11_IQ_Mobility_Report_en.pdf', '2020-04-11_US_New_Hampshire_Mobility_Report_en.pdf', '2020-04-11_US_New_Jersey_Mobility_Report_en.pdf', '2020-04-11_DE_Mobility_Report_en.pdf', '2020-04-11_HK_Mobility_Report_en.pdf', '2020-04-11_US_Wyoming_Mobility_Report_en.pdf', '2020-04-11_TJ_Mobility_Report_en.pdf', '2020-04-11_BY_Mobility_Report_en.pdf', '2020-04-11_NP_Mobility_Report_en.pdf', '2020-04-11_SV_Mobility_Report_en.pdf', '2020-04-11_GE_Mobility_Report_en.pdf', '2020-04-11_BH_Mobility_Report_en.pdf', '2020-04-11_RO_Mobility_Report_en.pdf', '2020-04-11_BF_Mobility_Report_en.pdf', '2020-04-11_DO_Mobility_Report_en.pdf', '2020-04-11_PR_Mobility_Report_en.pdf', '2020-04-11_HU_Mobility_Report_en.pdf', '2020-04-11_SA_Mobility_Report_en.pdf', '2020-04-11_BS_Mobility_Report_en.pdf', '2020-04-11_CL_Mobility_Report_en.pdf', '2020-04-11_US_South_Dakota_Mobility_Report_en.pdf', '2020-04-11_SI_Mobility_Report_en.pdf', '2020-04-11_NL_Mobility_Report_en.pdf', '2020-04-11_UY_Mobility_Report_en.pdf', '2020-04-11_US_Delaware_Mobility_Report_en.pdf', '2020-04-11_TH_Mobility_Report_en.pdf', '2020-04-11_PE_Mobility_Report_en.pdf', '2020-04-11_US_Iowa_Mobility_Report_en.pdf', '2020-04-11_AT_Mobility_Report_en.pdf', '2020-04-11_MX_Mobility_Report_en.pdf', '2020-04-11_LV_Mobility_Report_en.pdf']\n"
    }
   ],
   "source": [
    "#All pdf files in a dir\n",
    "filelist = os.listdir('pdfs')\n",
    "print(filelist)"
   ]
  },
  {
   "cell_type": "code",
   "execution_count": 3,
   "metadata": {},
   "outputs": [],
   "source": [
    "#Extract data from first page, which is the country or state.\n",
    "def extractBigEntity(textList):\n",
    "    checkpoint = 0\n",
    "    statList = []\n",
    "    for i in range(6):\n",
    "        stoppoint = textList[checkpoint+1:].index('compared to baseline')\n",
    "        returnSet = textList[checkpoint:checkpoint+stoppoint+1]\n",
    "        statList.append(returnSet[-1])\n",
    "        checkpoint += stoppoint + 1\n",
    "    return statList, checkpoint"
   ]
  },
  {
   "cell_type": "code",
   "execution_count": 4,
   "metadata": {},
   "outputs": [],
   "source": [
    "#Extract data from next pages, which is states (for country file) or counties (for state file)\n",
    "def extractSmallEntity(textList):\n",
    "    categories = ['Retail & recreation', 'Grocery & pharmacy', 'Parks', 'Transit stations', 'Workplace', 'Residential']\n",
    "    countyDict = {}\n",
    "    statList = []\n",
    "    county = \"\"\n",
    "    for i in range(len(textList)):\n",
    "        if len(statList) == 6 and county != \"\":\n",
    "            countyDict[county] = statList\n",
    "            statList = []\n",
    "            county = \"\"\n",
    "        for element in categories:\n",
    "            if element in textList[i]:\n",
    "                if \"Retail & recreation\" in textList[i]:\n",
    "                    county = textList[i-1]\n",
    "                    #print(county)\n",
    "                if 'compared to baseline' in textList[i+1]:\n",
    "                    splitLine = textList[i+1].split(' ')\n",
    "                    #print(splitLine[0])\n",
    "                    statList.append(splitLine[0])\n",
    "                    #print(textList[i])\n",
    "                elif 'Not enough data for this date' in textList[i+1]:\n",
    "                    statList.append(\"N/A\")\n",
    "                    #print(\"Not enough data\")\n",
    "                    #print(textList[i])\n",
    "    return countyDict"
   ]
  },
  {
   "cell_type": "code",
   "execution_count": 5,
   "metadata": {},
   "outputs": [],
   "source": [
    "#Create name for csv file with time and country/state name\n",
    "#Return time (to indicate the date of the documents)\n",
    "#return timeandloc to serve as the file name for csv files\n",
    "#return location to represent the country/state\n",
    "def extractLocationAndTimeName(filename):\n",
    "    filenamesplit = filename.split('_')\n",
    "    separator = ''\n",
    "    time = filenamesplit[0]\n",
    "    bigEntity = filenamesplit[1]\n",
    "    subEntity = separator.join(filenamesplit[2:filenamesplit.index('Mobility')])\n",
    "    \n",
    "    if(filenamesplit[2] == 'Mobility'):\n",
    "        return time, bigEntity, ''\n",
    "    else:\n",
    "        if(os.path.isdir('CSV/'+time+'/'+bigEntity) == False):\n",
    "            os.mkdir('CSV/'+time+'/'+bigEntity)\n",
    "        return time, subEntity, bigEntity"
   ]
  },
  {
   "cell_type": "code",
   "execution_count": 6,
   "metadata": {},
   "outputs": [],
   "source": [
    "#Convert a pdf file to csv\n",
    "def convertPDFtoCSV(filename):\n",
    "    time,location,folder = extractLocationAndTimeName(filename)\n",
    "    \n",
    "    if(os.path.isdir('CSV') == False):\n",
    "        os.mkdir('CSV')\n",
    "    if(os.path.isdir('CSV/'+time)==False):\n",
    "        os.mkdir(\"CSV/\"+time)\n",
    "    csvfilename = folder+'/'+location+'.csv'\n",
    "    csvfile = open('CSV/'+time+'/'+csvfilename, 'w')\n",
    "    writer = csv.writer(csvfile)\n",
    "    writer.writerow(['X','Retail & recreation', 'Grocery & pharmacy', 'Parks', 'Transit stations', 'Workplace', 'Residential'])\n",
    "    \n",
    "    pdf = parser.from_file(\"pdfs/\"+filename)\n",
    "    text = pdf['content'].strip().split('\\n')\n",
    "    for element in text:\n",
    "        if element == '':\n",
    "            text.remove(element)\n",
    "    overview, checkpoint = extractBigEntity(text)\n",
    "    overview.insert(0,location)\n",
    "    writer.writerow(overview)\n",
    "    resultDict = extractSmallEntity(text[checkpoint:])\n",
    "    \n",
    "    for key in resultDict:\n",
    "        resultList = resultDict[key]\n",
    "        resultList.insert(0,key)\n",
    "        writer.writerow(resultList)\n",
    "    csvfile.close()"
   ]
  },
  {
   "cell_type": "code",
   "execution_count": 7,
   "metadata": {},
   "outputs": [],
   "source": [
    "for filename in filelist:\n",
    "    convertPDFtoCSV(filename)"
   ]
  },
  {
   "cell_type": "code",
   "execution_count": null,
   "metadata": {},
   "outputs": [],
   "source": []
  }
 ],
 "metadata": {
  "kernelspec": {
   "display_name": "Python 3",
   "language": "python",
   "name": "python3"
  },
  "language_info": {
   "codemirror_mode": {
    "name": "ipython",
    "version": 3
   },
   "file_extension": ".py",
   "mimetype": "text/x-python",
   "name": "python",
   "nbconvert_exporter": "python",
   "pygments_lexer": "ipython3",
   "version": "3.7.5-final"
  }
 },
 "nbformat": 4,
 "nbformat_minor": 2
}